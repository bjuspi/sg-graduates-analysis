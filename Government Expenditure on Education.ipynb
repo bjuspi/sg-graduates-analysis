{
 "cells": [
  {
   "cell_type": "markdown",
   "metadata": {},
   "source": [
    "# Government Expenditure on Education"
   ]
  },
  {
   "cell_type": "markdown",
   "metadata": {},
   "source": [
    "---\n",
    "\n",
    "## Main Question\n",
    "\n",
    "1. How does the government expenditure on education get affected as the year goes by ?"
   ]
  },
  {
   "cell_type": "markdown",
   "metadata": {},
   "source": [
    "---\n",
    "\n",
    "## List of URLs used:\n",
    "\n",
    "\n",
    "1. Government Total Expenditure on Education<br>\n",
    "   https://data.gov.sg/dataset/government-expenditure-on-education\n",
    " \n",
    " \n",
    "2. Impact of government expenditure on Education<br>\n",
    "   https://theconversation.com/does-government-spending-on-education-promote-economic-growth-60229\n",
    "   \n",
    "   \n",
    "3. Government Spending On Education And Healthcare<br>\n",
    "   https://www.singaporebudget.gov.sg/budget_2020/about-budget/budget-features/govt-spending-on-education-and-healthcare"
   ]
  },
  {
   "cell_type": "markdown",
   "metadata": {},
   "source": [
    "---\n",
    "\n",
    "## Essential Libraries\n",
    "\n",
    "Let us begin by importing the essential Python Libraries.\n",
    "\n",
    "> NumPy : Library for Numeric Computations in Python  \n",
    "> Pandas : Library for Data Acquisition and Preparation  \n",
    "> Matplotlib : Low-level library for Data Visualization   "
   ]
  },
  {
   "cell_type": "code",
   "execution_count": 1,
   "metadata": {},
   "outputs": [],
   "source": [
    "# Basic Libraries\n",
    "import numpy as np\n",
    "import pandas as pd\n",
    "import matplotlib.pyplot as plt # we only need pyplot\n",
    "from matplotlib.ticker import FormatStrFormatter # formatstrformatter is used to format the plot's axis"
   ]
  },
  {
   "cell_type": "markdown",
   "metadata": {},
   "source": [
    "---\n",
    "\n",
    "## Setup : Import the Dataset"
   ]
  },
  {
   "cell_type": "code",
   "execution_count": 2,
   "metadata": {},
   "outputs": [
    {
     "data": {
      "text/html": [
       "<div>\n",
       "<style scoped>\n",
       "    .dataframe tbody tr th:only-of-type {\n",
       "        vertical-align: middle;\n",
       "    }\n",
       "\n",
       "    .dataframe tbody tr th {\n",
       "        vertical-align: top;\n",
       "    }\n",
       "\n",
       "    .dataframe thead th {\n",
       "        text-align: right;\n",
       "    }\n",
       "</style>\n",
       "<table border=\"1\" class=\"dataframe\">\n",
       "  <thead>\n",
       "    <tr style=\"text-align: right;\">\n",
       "      <th></th>\n",
       "      <th>total_expenditure_on_education</th>\n",
       "    </tr>\n",
       "    <tr>\n",
       "      <th>year</th>\n",
       "      <th></th>\n",
       "    </tr>\n",
       "  </thead>\n",
       "  <tbody>\n",
       "    <tr>\n",
       "      <td>1981</td>\n",
       "      <td>942517</td>\n",
       "    </tr>\n",
       "    <tr>\n",
       "      <td>1982</td>\n",
       "      <td>1358430</td>\n",
       "    </tr>\n",
       "    <tr>\n",
       "      <td>1983</td>\n",
       "      <td>1611647</td>\n",
       "    </tr>\n",
       "    <tr>\n",
       "      <td>1984</td>\n",
       "      <td>1769728</td>\n",
       "    </tr>\n",
       "    <tr>\n",
       "      <td>1985</td>\n",
       "      <td>1812376</td>\n",
       "    </tr>\n",
       "  </tbody>\n",
       "</table>\n",
       "</div>"
      ],
      "text/plain": [
       "      total_expenditure_on_education\n",
       "year                                \n",
       "1981                          942517\n",
       "1982                         1358430\n",
       "1983                         1611647\n",
       "1984                         1769728\n",
       "1985                         1812376"
      ]
     },
     "execution_count": 2,
     "metadata": {},
     "output_type": "execute_result"
    }
   ],
   "source": [
    "govtExpenditureData = pd.read_csv('government-expenditure-on-education.csv', index_col = 'year')\n",
    "govtExpenditureData.head()"
   ]
  },
  {
   "cell_type": "markdown",
   "metadata": {},
   "source": [
    "### Background Information \n",
    "\n",
    "According to Singapore Budget 2020, every year, many governments around the world devote largest chunks of their resources to two key sectors – healthcare and education. Hence, for a country scarce in natural resource like Singapore, developing its people has been a key focus right from the start.\n",
    "\n",
    "Without a doubt, Education has been a significant chunk of the Government spending in Singapore and it has been increasing steadily. Thus, this can be one of the many reasons why Singapore’s education system is considered among the best in the world today and is essential for Singapore to develop an excellent education system.\n",
    "\n",
    "In return, Education should be seen as an investment for Singapore’s future which offer more job opportunities for Singaporeans, providing for the needs of the economy, that promote economic growth and creating a prosperous Singapore .\n",
    "\n",
    "Datasets:\n",
    "\n",
    "1. `govtExpenditureData`\n",
    "  - The dataset shows the total amount spent by government on education over the years in S$ Thousand.\n",
    "  - The dataset coverage period ranges from 1981-01-01 to 2018-12-31."
   ]
  },
  {
   "cell_type": "markdown",
   "metadata": {},
   "source": [
    "---\n",
    "\n",
    "## Data Analysis"
   ]
  },
  {
   "cell_type": "markdown",
   "metadata": {},
   "source": [
    "### Government Expenditure on Education across financial years"
   ]
  },
  {
   "cell_type": "code",
   "execution_count": 3,
   "metadata": {},
   "outputs": [
    {
     "data": {
      "image/png": "[encoded data removed]",
      "text/plain": [
       "<Figure size 1440x360 with 1 Axes>"
      ]
     },
     "metadata": {
      "needs_background": "light"
     },
     "output_type": "display_data"
    }
   ],
   "source": [
    "# Sets Figure Size\n",
    "fig, ax = plt.subplots()\n",
    "fig.set_size_inches([20,5])\n",
    "\n",
    "# Plotting Bar Chart\n",
    "ax.bar(govtExpenditureData.index, govtExpenditureData['total_expenditure_on_education']) \n",
    "\n",
    "# Sets X and Y Axis Label\n",
    "ax.set_xlabel('Financial Year', fontsize = 14)\n",
    "ax.set_ylabel('S$ (Thousands)', fontsize = 14)\n",
    "\n",
    "# Set Y axis unit to integers\n",
    "ax.yaxis.set_major_formatter(FormatStrFormatter('%i'))\n",
    "\n",
    "# Setting the x values in a consecuting intervals (Consecutive Years)\n",
    "ax.set_xticks(govtExpenditureData.index)\n",
    "\n",
    "# Set Graph Title\n",
    "plt.title ('1981-2018 Government Education Expenditure', fontsize = 14)\n",
    "\n",
    "# Display the graph\n",
    "plt.show()"
   ]
  },
  {
   "cell_type": "markdown",
   "metadata": {},
   "source": [
    "As you can see from this graph, the Government Education Expenditure is increasing in the money spent over the years. This indicates a healthy economic growth which leads to an increase in employment rates, gdp growth, and etc. The bar chart shown aboves is in coherent with the key focus of Singapore Government which is to develop its people both professionally and personally. \n",
    "\n",
    "Next, we will attempt to estimate the bivariate relationship between government education expenditure and the number of graduates across a large sample of institutions."
   ]
  }
 ],
 "metadata": {
  "kernelspec": {
   "display_name": "Python 3",
   "language": "python",
   "name": "python3"
  },
  "language_info": {
   "codemirror_mode": {
    "name": "ipython",
    "version": 3
   },
   "file_extension": ".py",
   "mimetype": "text/x-python",
   "name": "python",
   "nbconvert_exporter": "python",
   "pygments_lexer": "ipython3",
   "version": "3.7.4"
  }
 },
 "nbformat": 4,
 "nbformat_minor": 2
}
