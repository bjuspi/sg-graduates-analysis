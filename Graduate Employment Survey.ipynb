{
 "cells": [
  {
   "cell_type": "markdown",
   "metadata": {},
   "source": [
    "# Graduate Employment Survey"
   ]
  },
  {
   "cell_type": "markdown",
   "metadata": {},
   "source": [
    "---\n",
    "\n",
    "## Main Question\n",
    "\n",
    "1. How does the employment rate changes across universities ?"
   ]
  },
  {
   "cell_type": "markdown",
   "metadata": {},
   "source": [
    "---\n",
    "\n",
    "## List of URLs used:\n",
    "\n",
    "\n",
    "1. Graduate Employment Survey - NTU, NUS, SIT, SMU, SUSS & SUTD<br>\n",
    "   https://data.gov.sg/dataset/graduate-employment-survey-ntu-nus-sit-smu-suss-sutd\n",
    "   \n",
    "\n",
    "2. Graduate Labour Market Statistics 2017<br>\n",
    "   https://assets.publishing.service.gov.uk/government/uploads/system/uploads/attachment_data/file/701720/GLMS_2017.pdf"
   ]
  },
  {
   "cell_type": "markdown",
   "metadata": {},
   "source": [
    "---\n",
    "\n",
    "## Essential Libraries\n",
    "\n",
    "Let us begin by importing the essential Python Libraries.\n",
    "\n",
    "> NumPy : Library for Numeric Computations in Python  \n",
    "> Pandas : Library for Data Acquisition and Preparation  \n",
    "> Matplotlib : Low-level library for Data Visualization  \n",
    "> Seaborn : Higher-level library for Data Visualization  "
   ]
  },
  {
   "cell_type": "code",
   "execution_count": 2,
   "metadata": {},
   "outputs": [],
   "source": [
    "# Basic Libraries\n",
    "import numpy as np\n",
    "import pandas as pd\n",
    "import seaborn as sb\n",
    "import matplotlib.pyplot as plt # we only need pyplot\n",
    "sb.set() # set the default Seaborn style for graphics"
   ]
  },
  {
   "cell_type": "markdown",
   "metadata": {},
   "source": [
    "---\n",
    "\n",
    "## Setup : Import the Dataset"
   ]
  },
  {
   "cell_type": "code",
   "execution_count": 3,
   "metadata": {},
   "outputs": [
    {
     "data": {
      "text/html": [
       "<div>\n",
       "<style scoped>\n",
       "    .dataframe tbody tr th:only-of-type {\n",
       "        vertical-align: middle;\n",
       "    }\n",
       "\n",
       "    .dataframe tbody tr th {\n",
       "        vertical-align: top;\n",
       "    }\n",
       "\n",
       "    .dataframe thead th {\n",
       "        text-align: right;\n",
       "    }\n",
       "</style>\n",
       "<table border=\"1\" class=\"dataframe\">\n",
       "  <thead>\n",
       "    <tr style=\"text-align: right;\">\n",
       "      <th></th>\n",
       "      <th>university</th>\n",
       "      <th>school</th>\n",
       "      <th>degree</th>\n",
       "      <th>employment_rate_overall</th>\n",
       "      <th>employment_rate_ft_perm</th>\n",
       "      <th>basic_monthly_mean</th>\n",
       "      <th>basic_monthly_median</th>\n",
       "      <th>gross_monthly_mean</th>\n",
       "      <th>gross_monthly_median</th>\n",
       "      <th>gross_mthly_25_percentile</th>\n",
       "      <th>gross_mthly_75_percentile</th>\n",
       "    </tr>\n",
       "    <tr>\n",
       "      <th>year</th>\n",
       "      <th></th>\n",
       "      <th></th>\n",
       "      <th></th>\n",
       "      <th></th>\n",
       "      <th></th>\n",
       "      <th></th>\n",
       "      <th></th>\n",
       "      <th></th>\n",
       "      <th></th>\n",
       "      <th></th>\n",
       "      <th></th>\n",
       "    </tr>\n",
       "  </thead>\n",
       "  <tbody>\n",
       "    <tr>\n",
       "      <td>2013</td>\n",
       "      <td>Nanyang Technological University</td>\n",
       "      <td>College of Business (Nanyang Business School)</td>\n",
       "      <td>Accountancy and Business</td>\n",
       "      <td>97.4</td>\n",
       "      <td>96.1</td>\n",
       "      <td>3701</td>\n",
       "      <td>3200</td>\n",
       "      <td>3727</td>\n",
       "      <td>3350</td>\n",
       "      <td>2900</td>\n",
       "      <td>4000</td>\n",
       "    </tr>\n",
       "    <tr>\n",
       "      <td>2013</td>\n",
       "      <td>Nanyang Technological University</td>\n",
       "      <td>College of Business (Nanyang Business School)</td>\n",
       "      <td>Accountancy (3-yr direct Honours Programme)</td>\n",
       "      <td>97.1</td>\n",
       "      <td>95.7</td>\n",
       "      <td>2850</td>\n",
       "      <td>2700</td>\n",
       "      <td>2938</td>\n",
       "      <td>2700</td>\n",
       "      <td>2700</td>\n",
       "      <td>2900</td>\n",
       "    </tr>\n",
       "    <tr>\n",
       "      <td>2013</td>\n",
       "      <td>Nanyang Technological University</td>\n",
       "      <td>College of Business (Nanyang Business School)</td>\n",
       "      <td>Business (3-yr direct Honours Programme)</td>\n",
       "      <td>90.9</td>\n",
       "      <td>85.7</td>\n",
       "      <td>3053</td>\n",
       "      <td>3000</td>\n",
       "      <td>3214</td>\n",
       "      <td>3000</td>\n",
       "      <td>2700</td>\n",
       "      <td>3500</td>\n",
       "    </tr>\n",
       "    <tr>\n",
       "      <td>2013</td>\n",
       "      <td>Nanyang Technological University</td>\n",
       "      <td>College of Business (Nanyang Business School)</td>\n",
       "      <td>Business and Computing</td>\n",
       "      <td>87.5</td>\n",
       "      <td>87.5</td>\n",
       "      <td>3557</td>\n",
       "      <td>3400</td>\n",
       "      <td>3615</td>\n",
       "      <td>3400</td>\n",
       "      <td>3000</td>\n",
       "      <td>4100</td>\n",
       "    </tr>\n",
       "    <tr>\n",
       "      <td>2013</td>\n",
       "      <td>Nanyang Technological University</td>\n",
       "      <td>College of Engineering</td>\n",
       "      <td>Aerospace Engineering</td>\n",
       "      <td>95.3</td>\n",
       "      <td>95.3</td>\n",
       "      <td>3494</td>\n",
       "      <td>3500</td>\n",
       "      <td>3536</td>\n",
       "      <td>3500</td>\n",
       "      <td>3100</td>\n",
       "      <td>3816</td>\n",
       "    </tr>\n",
       "  </tbody>\n",
       "</table>\n",
       "</div>"
      ],
      "text/plain": [
       "                            university  \\\n",
       "year                                     \n",
       "2013  Nanyang Technological University   \n",
       "2013  Nanyang Technological University   \n",
       "2013  Nanyang Technological University   \n",
       "2013  Nanyang Technological University   \n",
       "2013  Nanyang Technological University   \n",
       "\n",
       "                                             school  \\\n",
       "year                                                  \n",
       "2013  College of Business (Nanyang Business School)   \n",
       "2013  College of Business (Nanyang Business School)   \n",
       "2013  College of Business (Nanyang Business School)   \n",
       "2013  College of Business (Nanyang Business School)   \n",
       "2013                         College of Engineering   \n",
       "\n",
       "                                           degree employment_rate_overall  \\\n",
       "year                                                                        \n",
       "2013                     Accountancy and Business                    97.4   \n",
       "2013  Accountancy (3-yr direct Honours Programme)                    97.1   \n",
       "2013     Business (3-yr direct Honours Programme)                    90.9   \n",
       "2013                       Business and Computing                    87.5   \n",
       "2013                        Aerospace Engineering                    95.3   \n",
       "\n",
       "     employment_rate_ft_perm basic_monthly_mean basic_monthly_median  \\\n",
       "year                                                                   \n",
       "2013                    96.1               3701                 3200   \n",
       "2013                    95.7               2850                 2700   \n",
       "2013                    85.7               3053                 3000   \n",
       "2013                    87.5               3557                 3400   \n",
       "2013                    95.3               3494                 3500   \n",
       "\n",
       "     gross_monthly_mean gross_monthly_median gross_mthly_25_percentile  \\\n",
       "year                                                                     \n",
       "2013               3727                 3350                      2900   \n",
       "2013               2938                 2700                      2700   \n",
       "2013               3214                 3000                      2700   \n",
       "2013               3615                 3400                      3000   \n",
       "2013               3536                 3500                      3100   \n",
       "\n",
       "     gross_mthly_75_percentile  \n",
       "year                            \n",
       "2013                      4000  \n",
       "2013                      2900  \n",
       "2013                      3500  \n",
       "2013                      4100  \n",
       "2013                      3816  "
      ]
     },
     "execution_count": 3,
     "metadata": {},
     "output_type": "execute_result"
    }
   ],
   "source": [
    "graduateEmploymentData = pd.read_csv('graduate-employment-survey-ntu-nus-sit-smu-suss-sutd.csv', index_col='year')\n",
    "graduateEmploymentData.head()"
   ]
  },
  {
   "cell_type": "markdown",
   "metadata": {},
   "source": [
    "### Background Information \n",
    "\n",
    "\n",
    "Datasets:\n",
    "\n",
    "1. `graduateEmploymentData`\n",
    "  - The Graduate Employment Survey (GES) is jointly conducted by NTU, NUS, SMU, SIT (from 2014), SUTD (from 2015) and SUSS (from 2018) annually to survey the employment conditions of graduates about six months after their final examinations. The Ministry of Education (MOE) publishes the results of key employment indicators of the survey to provide prospective students with timely and comparable data to assist them in making informed course decisions.  Graduates from NTU, NUS, SMU and SUSS are surveyed in Nov. Due to their different academic calendars, graduates\n",
    "    from SUTD and SIT are surveyed in Feb and Mar.\n",
    "  - Overall employment rate refers to the number of graduates working in full-time permanent, part-time, temporary or freelance basis, as a proportion of graduates in the labour force (i.e. those who were working, or not working but actively looking and available for work) approximately 6 months after completing their final examinations.\n",
    "  - Full-time permanent employment rate refers to the number of graduates in employment of at least 35 hours a week and where the employment is not temporary (including contracts of one year or more), as a proportion of graduates in the labour force (i.e. those who were working, or not working but actively looking and available for work) approximately 6 months after completing their final examinations.\n",
    "  - Basic monthly salary pertains only to full-time permanently employed graduates. It comprises basic pay before deduction of the employee’s CPF contributions and personal income tax. Employer’s CPF contributions, bonuses, stock options, overtime payments, commissions, fixed allowances, other regular cash payments, lump sum payments, and payments-in-kind are excluded.\n",
    "  - Gross monthly salary pertains only to full-time permanently employed graduates. It comprises basic salary, overtime payments, commissions, fixed allowances, and other regular cash payments, before deductions of the employee’s CPF contributions and personal income tax. Employer’s CPF contributions, bonuses, stock options, lump sum payments, and payments-in-kind are excluded.\n",
    "  - The dataset coverage period ranges from 2013-01-01 to 2018-12-31."
   ]
  },
  {
   "cell_type": "markdown",
   "metadata": {},
   "source": [
    "Employment Rate is among the most important indicators of a country, because it directly reflects social and economic performance of the population. \n",
    "\n",
    "Universities role in society is to form specialists with different skills and qualifications. Hence, different universites have a different curiculum, culture and norm which directly affects the graduates employment rate. That is why it is important to choose the appropriate universities according to the students interest."
   ]
  },
  {
   "cell_type": "markdown",
   "metadata": {},
   "source": [
    "Universities which are listed in the datasets."
   ]
  },
  {
   "cell_type": "code",
   "execution_count": 4,
   "metadata": {},
   "outputs": [],
   "source": [
    "universities = ['Nanyang Technological University', 'National University of Singapore', 'Singapore Institute of Technology', 'Singapore Management University', 'Singapore University of Social Sciences', 'Singapore University of Technology and Design']"
   ]
  },
  {
   "cell_type": "markdown",
   "metadata": {},
   "source": [
    "---\n",
    "\n",
    "## Data Cleaning"
   ]
  },
  {
   "cell_type": "markdown",
   "metadata": {},
   "source": [
    "As you may have noticed, some of the values in the datasets are set to 'na'. Which means the university's degree haven't been established at the time yet. Hence, we can ignore the time period where the values are set to 'na'."
   ]
  },
  {
   "cell_type": "code",
   "execution_count": 5,
   "metadata": {},
   "outputs": [],
   "source": [
    "# Replace the 'na' value to np.NaN\n",
    "graduateEmploymentData = graduateEmploymentData.replace('na', np.NaN)"
   ]
  },
  {
   "cell_type": "markdown",
   "metadata": {},
   "source": [
    "To have a better structure for analysis, all the categorical variables should be a `str` type. While numerical variables should be an `int64` or `float64` type.\n",
    "\n",
    "**Categorical Variables**\n",
    "1. `year`\n",
    "2. `university`\n",
    "3. `school`\n",
    "4. `degree`\n",
    "\n",
    "**Numerical Variables**\n",
    "1. `employment_rate_overall`\n",
    "2. `employment_rate_ft_perm`\n",
    "3. `basic_monthly_mean`\n",
    "4. `basic_monthly_median`\n",
    "5. `gross_monthly_mean`\n",
    "6. `gross_monthly_median`\n",
    "7. `gross_mthly_25_percentile`\n",
    "8. `gross_mthly_75_percentile`"
   ]
  },
  {
   "cell_type": "code",
   "execution_count": 6,
   "metadata": {},
   "outputs": [],
   "source": [
    "# Convert the numerical variable employment_rate_overall to a numerical Datatype\n",
    "graduateEmploymentData['employment_rate_overall'] = pd.to_numeric(graduateEmploymentData['employment_rate_overall'])"
   ]
  },
  {
   "cell_type": "markdown",
   "metadata": {},
   "source": [
    "---\n",
    "\n",
    "## Data Transformation"
   ]
  },
  {
   "cell_type": "markdown",
   "metadata": {},
   "source": [
    "The dataframe `annualGraduateEmploymentData` represents the number of male and female graduates respectively across institutions. "
   ]
  },
  {
   "cell_type": "code",
   "execution_count": 20,
   "metadata": {},
   "outputs": [],
   "source": [
    "# The latest graduate employment data\n",
    "annualGraduateEmploymentData = graduateEmploymentData.loc['2018']"
   ]
  },
  {
   "cell_type": "markdown",
   "metadata": {},
   "source": [
    "---\n",
    "\n",
    "## Data Analysis"
   ]
  },
  {
   "cell_type": "markdown",
   "metadata": {},
   "source": [
    "### The latest average overall employment rate across universities"
   ]
  },
  {
   "cell_type": "code",
   "execution_count": 19,
   "metadata": {},
   "outputs": [
    {
     "data": {
      "image/png": "[encoded data removed]",
      "text/plain": [
       "<Figure size 1440x504 with 1 Axes>"
      ]
     },
     "metadata": {},
     "output_type": "display_data"
    }
   ],
   "source": [
    "# Sets Figure Size\n",
    "fig, ax = plt.subplots()\n",
    "fig.set_size_inches([20,7])\n",
    "\n",
    "# Plot a boxplot of overall employment rate for different university\n",
    "sb.boxplot(x = 'university', y = 'employment_rate_overall', data = annualGraduateEmploymentData)\n",
    "\n",
    "# Set Graph Title\n",
    "plt.title('Distribution of Overall Employment Rate across Universities', fontsize = 14)\n",
    "\n",
    "# Display the graph\n",
    "plt.show()"
   ]
  },
  {
   "cell_type": "markdown",
   "metadata": {},
   "source": [
    "As you may have noticed from the boxplot shown above, the data for Singapore University of Technology and Design is not shown in the boxplot due to the non-availability of the dataset. Hence, the analysis will only be based on the 5 universities shown above. \n",
    "\n",
    "\n",
    "Summary:\n",
    "1. Nanyang Technological University\n",
    "<br>25% of graduates has an overall employment rate ranges from 94.6% to 100%.\n",
    "<br>25% of graduates has an overall employment rate ranges from 90.1% to 94.6%.\n",
    "<br>25% of graduates has an overall employment rate ranges from 80.6% to 90.1%.\n",
    "<br>25% of graduates has an overall employment rate ranges from 74.4% to 80.6%.\n",
    "<br>Number of outliers: 0\n",
    "\n",
    "\n",
    "2. National University of Singapore\n",
    "<br>25% of graduates has an overall employment rate ranges from 95.7% to 100%.\n",
    "<br>25% of graduates has an overall employment rate ranges from 91% to 95.7%.\n",
    "<br>25% of graduates has an overall employment rate ranges from 88.2% to 91%.\n",
    "<br>25% of graduates has an overall employment rate ranges from 79.4% to 88.2%.\n",
    "<br>Number of outliers: 0\n",
    "\n",
    "\n",
    "3. Singapore Institute of Technology University\n",
    "<br>25% of graduates has an overall employment rate ranges from 96.375% to 100%.\n",
    "<br>25% of graduates has an overall employment rate ranges from 94% to 96.375%.\n",
    "<br>25% of graduates has an overall employment rate ranges from 89.475% to 94%.\n",
    "<br>Number of outliers: 1\n",
    "\n",
    "\n",
    "4. Singapore Management University \n",
    "<br>25% of graduates has an overall employment rate ranges from 96.325% to 100%.\n",
    "<br>25% of graduates has an overall employment rate ranges from 93.5% to 96.325%.\n",
    "<br>25% of graduates has an overall employment rate ranges from 91.475% to 93.5%.\n",
    "<br>25% of graduates has an overall employment rate ranges from 84.2% to 91.475%.\n",
    "<br>Number of outliers: 0\n",
    "\n",
    "\n",
    "5. Singapore University of Social Sciences\n",
    "<br>25% of graduates has an overall employment rate ranges from 96.35% to 98.7%.\n",
    "<br>25% of graduates has an overall employment rate ranges from 94% to 96.35%.\n",
    "<br>25% of graduates has an overall employment rate ranges from 91% to 94%.\n",
    "<br>25% of graduates has an overall employment rate ranges from 88% to 91%.\n",
    "<br>Number of outliers: 0"
   ]
  },
  {
   "cell_type": "markdown",
   "metadata": {},
   "source": [
    "As shown from the boxplot above, SUSS graduates has the highest median overall employment rate and lowest min/max range. While NTU has the lowest median employment rate across universities and highest min/max range. This is because SUSS is a university which is more focused more in social sciences compared to NTU which is a university with a diverse degrees. Same goes with SMU which is a university that speciliazes for business degrees."
   ]
  },
  {
   "cell_type": "markdown",
   "metadata": {},
   "source": [
    "Thus, as seen from the we can see that SUSS graduates has the highest median overall employment rate of 94% with the lowest min/max range of 10.7%. While NTU graduates has the lowest median overall employment rate of 90.1% with the highest min/max range of 20.2%. \n",
    "\n",
    "However, among all universities NTU and NUS has a much more diverse degrees and programmes compared to the other private universities which is more specialized in certain areas. \n",
    "\n",
    "Hence, the reason that may caused the large differences in employment rate of the two private and public universities are the differences in the number of degress between them. SUSS which is specialized in social sciences, SMU which specializes in business related degrees. "
   ]
  },
  {
   "cell_type": "markdown",
   "metadata": {},
   "source": [
    "Conclusion:\n",
    "\n",
    "If you are planning to enter the work force with a higher employment rate in a certain area, it is best to enter into a university that focuses on a certain areas rather than a big university that has a diverse range of degrees."
   ]
  }
 ],
 "metadata": {
  "kernelspec": {
   "display_name": "Python 3",
   "language": "python",
   "name": "python3"
  },
  "language_info": {
   "codemirror_mode": {
    "name": "ipython",
    "version": 3
   },
   "file_extension": ".py",
   "mimetype": "text/x-python",
   "name": "python",
   "nbconvert_exporter": "python",
   "pygments_lexer": "ipython3",
   "version": "3.7.4"
  }
 },
 "nbformat": 4,
 "nbformat_minor": 2
}
