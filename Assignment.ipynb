{
 "cells": [
  {
   "cell_type": "markdown",
   "metadata": {},
   "source": [
    "# Analysis of how higher education impact a country economic performance "
   ]
  },
  {
   "cell_type": "markdown",
   "metadata": {},
   "source": [
    "Education has been believed as one of the key sectors in improving on a country's economic growth. This analysis will attempt to explore the impact of higher education on a country economic performance. The main objectives of this analysis are to:\n",
    "1. Determine the key variables associated with higher education level and economic performance\n",
    "2. Explore the relationship between these key variables\n",
    "3. Determine the possible ways to improve the nation's economy"
   ]
  },
  {
   "cell_type": "markdown",
   "metadata": {},
   "source": [
    "For this analysis, GDP per capita would be used as the measure for measuring a country's economic performance. Preferably, a measure that would reflect developments rather than the total population would give a more accurate figures, as demographic and other non-significant factors may affect the two variables. However, it is difficult to measure the country's economic performance in regards to number of employments."
   ]
  },
  {
   "cell_type": "markdown",
   "metadata": {},
   "source": [
    "To measure the average level of human capital on education, this analysis would use:\n",
    "1. Government Expenditure on Education\n",
    "2. Number of Graduates\n",
    "3. Graduates Employment Rate"
   ]
  }
 ],
 "metadata": {
  "kernelspec": {
   "display_name": "Python 3",
   "language": "python",
   "name": "python3"
  },
  "language_info": {
   "codemirror_mode": {
    "name": "ipython",
    "version": 3
   },
   "file_extension": ".py",
   "mimetype": "text/x-python",
   "name": "python",
   "nbconvert_exporter": "python",
   "pygments_lexer": "ipython3",
   "version": "3.7.4"
  }
 },
 "nbformat": 4,
 "nbformat_minor": 2
}
