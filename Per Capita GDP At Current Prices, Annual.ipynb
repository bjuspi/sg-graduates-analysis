{
 "cells": [
  {
   "cell_type": "markdown",
   "metadata": {},
   "source": [
    "# Per Capita GDP At Current Prices, Annual"
   ]
  },
  {
   "cell_type": "markdown",
   "metadata": {},
   "source": [
    "---\n",
    "\n",
    "## Main Question\n",
    "\n",
    "1. How does the GDP per Capita changes over the years ?"
   ]
  },
  {
   "cell_type": "markdown",
   "metadata": {},
   "source": [
    "---\n",
    "\n",
    "## List of URLs used:\n",
    "\n",
    "\n",
    "1. Per Capita GNI And Per Capita GDP At Current Prices, Annual<br>\n",
    "   https://data.gov.sg/dataset/per-capita-gni-and-per-capita-gdp-at-current-market-prices-annual\n",
    "\n",
    "     \n",
    "2. Gross Domestic Product per Capita<br>\n",
    "   https://www.thebalance.com/gdp-per-capita-formula-u-s-compared-to-highest-and-lowest-3305848\n",
    "   \n",
    "   \n",
    "3. What Does an Increasing GDP Mean?<br>\n",
    "   https://www.sapling.com/8560715/increasing-gdp-mean"
   ]
  },
  {
   "cell_type": "markdown",
   "metadata": {},
   "source": [
    "---\n",
    "\n",
    "## Essential Libraries\n",
    "\n",
    "Let us begin by importing the essential Python Libraries.\n",
    "\n",
    "> NumPy : Library for Numeric Computations in Python  \n",
    "> Pandas : Library for Data Acquisition and Preparation  \n",
    "> Matplotlib : Low-level library for Data Visualization  "
   ]
  },
  {
   "cell_type": "code",
   "execution_count": 1,
   "metadata": {},
   "outputs": [],
   "source": [
    "# Basic Libraries\n",
    "import numpy as np\n",
    "import pandas as pd\n",
    "import matplotlib.pyplot as plt # we only need pyplot"
   ]
  },
  {
   "cell_type": "markdown",
   "metadata": {},
   "source": [
    "---\n",
    "\n",
    "## Setup : Import the Dataset"
   ]
  },
  {
   "cell_type": "code",
   "execution_count": 2,
   "metadata": {},
   "outputs": [
    {
     "data": {
      "text/html": [
       "<div>\n",
       "<style scoped>\n",
       "    .dataframe tbody tr th:only-of-type {\n",
       "        vertical-align: middle;\n",
       "    }\n",
       "\n",
       "    .dataframe tbody tr th {\n",
       "        vertical-align: top;\n",
       "    }\n",
       "\n",
       "    .dataframe thead th {\n",
       "        text-align: right;\n",
       "    }\n",
       "</style>\n",
       "<table border=\"1\" class=\"dataframe\">\n",
       "  <thead>\n",
       "    <tr style=\"text-align: right;\">\n",
       "      <th></th>\n",
       "      <th>level_1</th>\n",
       "      <th>value</th>\n",
       "    </tr>\n",
       "    <tr>\n",
       "      <th>year</th>\n",
       "      <th></th>\n",
       "      <th></th>\n",
       "    </tr>\n",
       "  </thead>\n",
       "  <tbody>\n",
       "    <tr>\n",
       "      <td>1960</td>\n",
       "      <td>Per Capita GNI</td>\n",
       "      <td>1334</td>\n",
       "    </tr>\n",
       "    <tr>\n",
       "      <td>1960</td>\n",
       "      <td>Per Capita GDP</td>\n",
       "      <td>1310</td>\n",
       "    </tr>\n",
       "    <tr>\n",
       "      <td>1961</td>\n",
       "      <td>Per Capita GNI</td>\n",
       "      <td>1401</td>\n",
       "    </tr>\n",
       "    <tr>\n",
       "      <td>1961</td>\n",
       "      <td>Per Capita GDP</td>\n",
       "      <td>1375</td>\n",
       "    </tr>\n",
       "    <tr>\n",
       "      <td>1962</td>\n",
       "      <td>Per Capita GNI</td>\n",
       "      <td>1473</td>\n",
       "    </tr>\n",
       "    <tr>\n",
       "      <td>...</td>\n",
       "      <td>...</td>\n",
       "      <td>...</td>\n",
       "    </tr>\n",
       "    <tr>\n",
       "      <td>2016</td>\n",
       "      <td>Per Capita GDP</td>\n",
       "      <td>78364</td>\n",
       "    </tr>\n",
       "    <tr>\n",
       "      <td>2017</td>\n",
       "      <td>Per Capita GNI</td>\n",
       "      <td>77474</td>\n",
       "    </tr>\n",
       "    <tr>\n",
       "      <td>2017</td>\n",
       "      <td>Per Capita GDP</td>\n",
       "      <td>83265</td>\n",
       "    </tr>\n",
       "    <tr>\n",
       "      <td>2018</td>\n",
       "      <td>Per Capita GNI</td>\n",
       "      <td>81222</td>\n",
       "    </tr>\n",
       "    <tr>\n",
       "      <td>2018</td>\n",
       "      <td>Per Capita GDP</td>\n",
       "      <td>87108</td>\n",
       "    </tr>\n",
       "  </tbody>\n",
       "</table>\n",
       "<p>118 rows × 2 columns</p>\n",
       "</div>"
      ],
      "text/plain": [
       "             level_1  value\n",
       "year                       \n",
       "1960  Per Capita GNI   1334\n",
       "1960  Per Capita GDP   1310\n",
       "1961  Per Capita GNI   1401\n",
       "1961  Per Capita GDP   1375\n",
       "1962  Per Capita GNI   1473\n",
       "...              ...    ...\n",
       "2016  Per Capita GDP  78364\n",
       "2017  Per Capita GNI  77474\n",
       "2017  Per Capita GDP  83265\n",
       "2018  Per Capita GNI  81222\n",
       "2018  Per Capita GDP  87108\n",
       "\n",
       "[118 rows x 2 columns]"
      ]
     },
     "execution_count": 2,
     "metadata": {},
     "output_type": "execute_result"
    }
   ],
   "source": [
    "perCapitaGNIGDPData = pd.read_csv('per-capita-gni-and-per-capita-gdp-at-current-prices-annual.csv', index_col = 'year')\n",
    "perCapitaGNIGDPData"
   ]
  },
  {
   "cell_type": "markdown",
   "metadata": {},
   "source": [
    "### Background Information \n",
    "\n",
    "General Information:\n",
    "\n",
    "**What is GDP per capita ?**\n",
    "\n",
    "The gross domestic product per capita, or GDP per capita, is a measure of a country's economic output that accounts for its number of people. It divides the country's gross domestic product by its total population.\n",
    "\n",
    "\n",
    "Datasets:\n",
    "\n",
    "1. `perCapitaGNIGDPData`\n",
    "\n",
    "  - The dataset shows the Gross National Income and Gross Domestic Product divided by midyear population, expressed in S$.\n",
    "  - The dataset coverage period ranges from 1960-01-01 to 2018-12-31."
   ]
  },
  {
   "cell_type": "markdown",
   "metadata": {},
   "source": [
    "---\n",
    "\n",
    "## Data Transformation"
   ]
  },
  {
   "cell_type": "markdown",
   "metadata": {},
   "source": [
    "### Group the data by their respective GNI/GDP per capita"
   ]
  },
  {
   "cell_type": "markdown",
   "metadata": {},
   "source": [
    "The dataframe `perCapitaGDPData` represents the annual GDP per capita data over the years in S$. For the purpose of this analysis, we will only be focusing on the GDP per Capita in our dataset."
   ]
  },
  {
   "cell_type": "code",
   "execution_count": 3,
   "metadata": {},
   "outputs": [],
   "source": [
    "# Make sub dataframe for GDP per capita\n",
    "perCapitaGDPData = perCapitaGNIGDPData[perCapitaGNIGDPData['level_1'] == 'Per Capita GDP']"
   ]
  },
  {
   "cell_type": "markdown",
   "metadata": {},
   "source": [
    "---\n",
    "\n",
    "## Data Analysis\n",
    "\n",
    "In this section of the analysis, GDP per capita would be plotted over the years in a chart. Given that the aim of the analysis is to determine the relationship between Education Expenditure and GDP per Capita."
   ]
  },
  {
   "cell_type": "markdown",
   "metadata": {},
   "source": [
    "### GDP per capita over the years"
   ]
  },
  {
   "cell_type": "code",
   "execution_count": 4,
   "metadata": {},
   "outputs": [
    {
     "data": {
      "image/png": "[encoded data removed]",
      "text/plain": [
       "<Figure size 1440x360 with 1 Axes>"
      ]
     },
     "metadata": {
      "needs_background": "light"
     },
     "output_type": "display_data"
    }
   ],
   "source": [
    "# Sets figure size\n",
    "fig, ax = plt.subplots()\n",
    "fig.set_size_inches([20,5])\n",
    "\n",
    "# Plotting a Line Chart of GDP per capita over the years\n",
    "ax.plot(perCapitaGDPData.index, perCapitaGDPData.value, marker='.', label='GDP')\n",
    "\n",
    "# Sets X and Y Axis Label\n",
    "ax.set_xlabel('Year', fontsize=14)\n",
    "ax.set_ylabel('S$', fontsize=14)\n",
    "\n",
    "# Legend to indicate the labels of the graph\n",
    "plt.legend()\n",
    "\n",
    "# Set Graph Title\n",
    "plt.title('GDP per Capita from 1960 - 2018', fontsize=14)\n",
    "\n",
    "# Display the graph\n",
    "plt.show()"
   ]
  },
  {
   "cell_type": "markdown",
   "metadata": {},
   "source": [
    "From the line chart shown above, Singapore's GDP per Capita has been growing rapidly and has been in a steady increase over the years since its lowest in 1960.\n",
    "\n",
    "Similarly, from 1981 to 2018, the Singapore government has also increased the amount of money spent in the Education sector. This means that Education is not only one of the factors contributing to the how well the future prospect of an individual, but also plays a role in the country's economic performance that would indicate the country's value in the global standing.\n",
    "\n",
    "This is because a well educated individual can easily find a job with the necessary qualifications and thus higher rate of getting employed in Singapore. This will allow the individual to be placed in a better position and equiped with the fundamental skills that company are looking for compared to others that have no education background or any relevant skills.\n",
    "\n",
    "Hence, a strong spending on the education can ultimately increase a person's capability to contribute to the economic activities for the economy to function. Therefore, investing in education in return can make the country's economy grow, raising Singapore's GDP value.\n",
    "\n",
    "Thus, this shows that Singapore's GDP per Capita and Education Expenditure invested are correlated as they both have an impact on each other."
   ]
  }
 ],
 "metadata": {
  "kernelspec": {
   "display_name": "Python 3",
   "language": "python",
   "name": "python3"
  },
  "language_info": {
   "codemirror_mode": {
    "name": "ipython",
    "version": 3
   },
   "file_extension": ".py",
   "mimetype": "text/x-python",
   "name": "python",
   "nbconvert_exporter": "python",
   "pygments_lexer": "ipython3",
   "version": "3.7.4"
  }
 },
 "nbformat": 4,
 "nbformat_minor": 2
}
